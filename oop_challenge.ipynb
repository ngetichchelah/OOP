{
 "cells": [
  {
   "cell_type": "markdown",
   "id": "1a0c741f",
   "metadata": {},
   "source": [
    "### Book Class"
   ]
  },
  {
   "cell_type": "code",
   "execution_count": 18,
   "id": "f6d2b805",
   "metadata": {},
   "outputs": [],
   "source": [
    "class Book:\n",
    "    def __init__(self, title, author, book_no): #initialises the book \n",
    "        self.title = title\n",
    "        self.author = author\n",
    "        self.book_no = book_no\n",
    "        self.is_borrowed = False\n",
    "\n",
    "    def borrow(self): #Marks the book as borrowed.\n",
    "        if not self.is_borrowed:\n",
    "            self.is_borrowed = True\n",
    "            print(f\"Book '{self.title}' has been borrowed.\")\n",
    "        else:\n",
    "            print(f\"Book '{self.title}' is already borrowed.\")\n",
    "\n",
    "    def return_book(self): #Marks the book as returned.\n",
    "        if self.is_borrowed:\n",
    "            self.is_borrowed = False\n",
    "            print(f\"Book '{self.title}' has been returned.\")\n",
    "        else:\n",
    "            print(f\"Book '{self.title}' was not borrowed.\")\n",
    "\n",
    "    def __str__(self): #Returns a string representation of the book.\n",
    "        status = \"Borrowed\" if self.is_borrowed else \"Available\"\n",
    "        return f\"[{self.book_no}] {self.title} by {self.author} - {status}\"\n"
   ]
  },
  {
   "cell_type": "markdown",
   "id": "5a519d27",
   "metadata": {},
   "source": [
    "### Member Class"
   ]
  },
  {
   "cell_type": "code",
   "execution_count": null,
   "id": "168225e8",
   "metadata": {},
   "outputs": [],
   "source": [
    "class Member:\n",
    "    def __init__(self, name, member_id): #Initializes the member with the given name and ID.\n",
    "        self.name = name\n",
    "        self.member_id = member_id\n",
    "        self.borrowed_books = []\n",
    "\n",
    "    def borrow_book(self, book): # marks the book as borrowed.\n",
    "        if book not in self.borrowed_books and not book.is_borrowed:\n",
    "            book.borrow()\n",
    "            self.borrowed_books.append(book) # Adds the book to the member’s borrowed books\n",
    "        else:\n",
    "            print(f\"{self.name} cannot borrow '{book.title}'.\")\n",
    "\n",
    "    def return_book(self, book): #Removes the book from the member’s borrowed books \n",
    "        if book in self.borrowed_books:\n",
    "            book.return_book() #marks the book as returned.\n",
    "            self.borrowed_books.remove(book)\n",
    "        else:\n",
    "            print(f\"{self.name} did not borrow '{book.title}'.\")\n",
    "\n",
    "    def __str__(self): #Returns a string representation of the member.\n",
    "        books = ', '.join(book.title for book in self.borrowed_books) or \"None\"\n",
    "        return f\"Member: {self.name} (ID: {self.member_id}) - Borrowed: {books}\"\n"
   ]
  },
  {
   "cell_type": "markdown",
   "id": "7bf05945",
   "metadata": {},
   "source": [
    "### Library Class"
   ]
  },
  {
   "cell_type": "code",
   "execution_count": null,
   "id": "67598680",
   "metadata": {},
   "outputs": [],
   "source": [
    "class Library:\n",
    "    def __init__(self): # Initializes the library with empty books and members lists\n",
    "        self.books = []\n",
    "        self.members = []\n",
    "\n",
    "    def add_book(self, book): #Adds a new book to the library.\n",
    "        self.books.append(book)\n",
    "        print(f\"Book added: {book.title}\")\n",
    "\n",
    "    def register_member(self, member): #Registers a new member to the library.\n",
    "        self.members.append(member)\n",
    "        print(f\"Member registered: {member.name}\")\n",
    "\n",
    "    def find_book(self, book_no): #Finds a book by its book_no.\n",
    "        for book in self.books:\n",
    "            if book.book_no == book_no:\n",
    "                return book\n",
    "        return None\n",
    "\n",
    "    def find_member(self, member_id):#Finds a member by their ID.\n",
    "        for member in self.members:\n",
    "            if member.member_id == member_id:\n",
    "                return member\n",
    "        return None\n",
    "\n",
    "    def borrow_book(self, member_id, book_no): #Allows a member to borrow a book.\n",
    "        member = self.find_member(member_id)\n",
    "        book = self.find_book(book_no)\n",
    "        if member and book:\n",
    "            member.borrow_book(book)\n",
    "        else:\n",
    "            print(\"Invalid member ID or book number.\")\n",
    "\n",
    "    def return_book(self, member_id, book_no): #Allows a member to return a book.\n",
    "        member = self.find_member(member_id)\n",
    "        book = self.find_book(book_no)\n",
    "        if member and book:\n",
    "            member.return_book(book)\n",
    "        else:\n",
    "            print(\"Invalid member ID or book number.\")\n",
    "\n",
    "    def __str__(self): #Returns a string rep of the library’s current state\n",
    "        books = \"\\n\".join(str(book) for book in self.books)\n",
    "        members = \"\\n\".join(str(member) for member in self.members)\n",
    "        return f\"📚 Library Books:\\n{books}\\n\\n👥 Library Members:\\n{members}\"\n"
   ]
  },
  {
   "cell_type": "markdown",
   "id": "3034c6d6",
   "metadata": {},
   "source": [
    "### Main Program"
   ]
  },
  {
   "cell_type": "code",
   "execution_count": null,
   "id": "831f9758",
   "metadata": {},
   "outputs": [
    {
     "name": "stdout",
     "output_type": "stream",
     "text": [
      "Book added: Kifo Kisimani\n",
      "Book added: Siku Njema\n",
      "Book added: Kidagaa Kimemwozea\n",
      "Member registered: Yvonne\n",
      "Member registered: Brian\n",
      "Book 'Kifo Kisimani' has been borrowed.\n",
      "Book 'Siku Njema' has been borrowed.\n",
      "Yvonne cannot borrow 'Siku Njema'.\n",
      "Book 'Kifo Kisimani' has been returned.\n",
      "Yvonne did not borrow 'Siku Njema'.\n",
      "\n",
      "--- Library State ---\n",
      "📚 Library Books:\n",
      "[1] Kifo Kisimani by Kithaka Wa Mberia - Available\n",
      "[2] Siku Njema by Ken Walibora - Borrowed\n",
      "[3] Kidagaa Kimemwozea by Harper Lee - Available\n",
      "\n",
      "👥 Library Members:\n",
      "Member: Yvonne (ID: 101) - Borrowed: None\n",
      "Member: Brian (ID: 102) - Borrowed: Siku Njema\n"
     ]
    }
   ],
   "source": [
    "if __name__ == \"__main__\":\n",
    "    # Create a library\n",
    "    lib = Library()\n",
    "\n",
    "    # Add books\n",
    "    lib.add_book(Book(\"Kifo Kisimani\", \"Kithaka Wa Mberia\", 1))\n",
    "    lib.add_book(Book(\"Siku Njema\", \"Ken Walibora\", 2))\n",
    "    lib.add_book(Book(\"Kidagaa Kimemwozea\", \"Harper Lee\", 3))\n",
    "\n",
    "    # Register members\n",
    "    lib.register_member(Member(\"Yvonne\", 101))\n",
    "    lib.register_member(Member(\"Brian\", 102))\n",
    "\n",
    "    # Borrowing books\n",
    "    lib.borrow_book(101, 1)  # Yvonne borrows\n",
    "    lib.borrow_book(102, 2)  # Brian borrows \"Siku Njema\"\n",
    "    lib.borrow_book(101, 2)  # Yvonne tries to borrow \"Siku Njema\" (already borrowed)\n",
    "\n",
    "    # Returning books\n",
    "    lib.return_book(101, 1)  # Yvonne returns \"Kifo Kisimani\"\n",
    "    lib.return_book(101, 2)  # Yvonne tries to return \"Siku Njema\" (didn’t borrow)\n",
    "\n",
    "    # Current state\n",
    "    print(\"\\n--- Library State ---\")\n",
    "    print (lib)\n"
   ]
  }
 ],
 "metadata": {
  "kernelspec": {
   "display_name": "Python 3",
   "language": "python",
   "name": "python3"
  },
  "language_info": {
   "codemirror_mode": {
    "name": "ipython",
    "version": 3
   },
   "file_extension": ".py",
   "mimetype": "text/x-python",
   "name": "python",
   "nbconvert_exporter": "python",
   "pygments_lexer": "ipython3",
   "version": "3.13.4"
  }
 },
 "nbformat": 4,
 "nbformat_minor": 5
}
