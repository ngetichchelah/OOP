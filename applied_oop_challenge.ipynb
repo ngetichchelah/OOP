{
 "cells": [
  {
   "cell_type": "markdown",
   "id": "c7672362",
   "metadata": {},
   "source": [
    "### Product Class"
   ]
  },
  {
   "cell_type": "code",
   "execution_count": 55,
   "id": "019c1835",
   "metadata": {},
   "outputs": [],
   "source": [
    "class Product:\n",
    "    product_count = 0  # class variable to track number of products\n",
    "\n",
    "#initializing the product with the given attributes: name, price, stock\n",
    "    def __init__(self, name, price, stock): \n",
    "        self.name = name\n",
    "        self.price = price\n",
    "        self.stock = stock\n",
    "        Product.product_count += 1\n",
    "\n",
    "    def sell(self, quantity): # Reduces the stock by the given quantity(if enough stock is available.)\n",
    "        if quantity <= self.stock:\n",
    "            self.stock -= quantity\n",
    "            print(f\"Sold {quantity} of '{self.name}'\")\n",
    "        else:\n",
    "            print(f\"Not enough stock to sell {quantity} of '{self.name}'\")\n",
    "\n",
    "    def restock(self, quantity): #Increases the stock by the given quantity.\n",
    "        self.stock += quantity\n",
    "        print(f\"Restocked {quantity} of '{self.name}'\")\n",
    "\n",
    "    @property\n",
    "    def stock_value(self): #Returns the total value of the stock (price * stock).\n",
    "        return self.stock * self.price\n",
    "\n",
    "    def __str__(self): #Returns a string representation of the product.\n",
    "        return f\"{self.name} - KES {self.price} x {self.stock} (Value: KES{self.stock_value})\"\n"
   ]
  },
  {
   "cell_type": "markdown",
   "id": "00f40fe5",
   "metadata": {},
   "source": [
    "### Customer Class"
   ]
  },
  {
   "cell_type": "code",
   "execution_count": 56,
   "id": "98a0e27a",
   "metadata": {},
   "outputs": [],
   "source": [
    "class Customer:\n",
    "\n",
    "#Initializes the customer with the given attributes: name and email.\n",
    "    def __init__(self, name, email):\n",
    "        self.name = name\n",
    "        self.email = email\n",
    "        self.purchase_history = [] #a list of orders\n",
    "\n",
    "    def add_order(self, order): #Adds an order to the customer’s purchase history\n",
    "        self.purchase_history.append(order)\n",
    "        print(f\"Order added for {self.name}: {order}\")\n",
    "\n",
    "    def total_spent(self): #Calculates the total amount spent by the customer.\n",
    "        return sum(order.total_price() for order in self.purchase_history)\n",
    "\n",
    "    def __str__(self):\n",
    "        return f\"Customer: {self.name}, Email: {self.email}, Total Spent: KES{self.total_spent():.2f}\"\n"
   ]
  },
  {
   "cell_type": "markdown",
   "id": "bcb82514",
   "metadata": {},
   "source": [
    "### Order Class"
   ]
  },
  {
   "cell_type": "code",
   "execution_count": 57,
   "id": "5a45041d",
   "metadata": {},
   "outputs": [],
   "source": [
    "class Order:\n",
    "\n",
    "#Initializes the order with the given product, quantity, and customer.\n",
    "    def __init__(self, product, quantity, customer):\n",
    "        self.product = product\n",
    "        self.quantity = quantity\n",
    "        self.customer = customer\n",
    "\n",
    "    def total_price(self): #Calculates the total price of the order \n",
    "        return self.product.price * self.quantity\n",
    "\n",
    "    def __str__(self): #returns string representation of the order.\n",
    "        return f\"Order: {self.quantity} x {self.product.name} for {self.customer.name} - Total: KES{self.total_price():.2f}\"\n"
   ]
  },
  {
   "cell_type": "markdown",
   "id": "3b438f47",
   "metadata": {},
   "source": [
    "### VIPCustomer Class (Inheritance from Customer)"
   ]
  },
  {
   "cell_type": "code",
   "execution_count": 58,
   "id": "9f41a084",
   "metadata": {},
   "outputs": [],
   "source": [
    "class VIPCustomer(Customer):\n",
    "    def __init__(self, name, email, discount_rate):\n",
    "        super().__init__(name, email) #Calls the parent class’ constructor\n",
    "        self.discount_rate = discount_rate  # e.g., 0.1 for 10%\n",
    "\n",
    "    def total_spent(self):\n",
    "        total = super().total_spent() #Reuses Customer’s total_spent logic\n",
    "        return total * (1 - self.discount_rate)\n",
    "\n",
    "    def __str__(self):\n",
    "        return f\"VIPCustomer: {self.name}, at {int(self.discount_rate*100)}% discount,Total: KES{self.total_spent():.2f}\""
   ]
  },
  {
   "cell_type": "markdown",
   "id": "c64484bc",
   "metadata": {},
   "source": [
    "### Main Program"
   ]
  },
  {
   "cell_type": "code",
   "execution_count": 59,
   "id": "a9466cc8",
   "metadata": {},
   "outputs": [
    {
     "name": "stdout",
     "output_type": "stream",
     "text": [
      "Restocked 5 of 'Jackets'\n",
      "Sold 2 of 'Shirt'\n",
      "Not enough stock to sell 40 of 'Socks'\n",
      "Order added for Yvonne: Order: 1 x Jackets for Yvonne - Total: KES1000.00\n",
      "Order added for Yvonne: Order: 2 x Shirt for Yvonne - Total: KES1000.00\n",
      "Order added for Brian: Order: 3 x Socks for Brian - Total: KES300.00\n",
      "\n",
      "--- Product Inventory ---\n",
      "Jackets - KES 1000 x 15 (Value: KES15000)\n",
      "Shirt - KES 500 x 18 (Value: KES9000)\n",
      "Socks - KES 100 x 30 (Value: KES3000)\n",
      "\n",
      "--- Customer Details ---\n",
      "Customer: Yvonne, Email: yvonne@gmail.com, Total Spent: KES2000.00\n",
      "VIPCustomer: Brian, at 10% discount,Total: KES270.00\n",
      "\n",
      "--- All Orders ---\n",
      "Order: 1 x Jackets for Yvonne - Total: KES1000.00\n",
      "Order: 2 x Shirt for Yvonne - Total: KES1000.00\n",
      "Order: 3 x Socks for Brian - Total: KES300.00\n",
      "\n",
      "📦 Total products created: 3\n"
     ]
    }
   ],
   "source": [
    "if __name__ == \"__main__\":\n",
    "    \n",
    "    #PRODUCT CLASS\n",
    "\n",
    "    # Create Products (self,name,price,stock)\n",
    "    p1 = Product(\"Jackets\", 1000, 10)\n",
    "    p2 = Product(\"Shirt\", 500, 20)\n",
    "    p3 = Product(\"Socks\", 100, 30)\n",
    "\n",
    "    # Restock and sell (self, quantity)\n",
    "    p1.restock(5) \n",
    "    p2.sell(2)  \n",
    "    p3.sell(40)  # not enough stock (30 available)\n",
    "\n",
    "    #CUSTOMER CLASS\n",
    "\n",
    "    # Create Customers (self, name, email)\n",
    "    c1 = Customer(\"Yvonne\", \"yvonne@gmail.com\")\n",
    "    c2 = VIPCustomer(\"Brian\", \"brian@example.com\", 0.1)\n",
    "\n",
    "    #ORDER CLASS\n",
    "\n",
    "    # Create and add Orders (self, product, quantity, customer)\n",
    "    o1 = Order(p1, 1, c1)\n",
    "    o2 = Order(p2, 2, c1)\n",
    "    o3 = Order(p3, 3, c2)\n",
    "\n",
    "    # From CUSTOMER CLASS (self, order)\n",
    "    c1.add_order(o1)\n",
    "    c1.add_order(o2)\n",
    "    c2.add_order(o3)\n",
    "\n",
    "    # Show Totals\n",
    "    print(\"\\n--- Product Inventory ---\")\n",
    "    print(p1)\n",
    "    print(p2)\n",
    "    print(p3)\n",
    "\n",
    "    print(\"\\n--- Customer Details ---\")\n",
    "    print(c1)\n",
    "    print(c2)\n",
    "\n",
    "    print(\"\\n--- All Orders ---\")\n",
    "    for order in c1.purchase_history + c2.purchase_history:\n",
    "        print(order)\n",
    "\n",
    "    print(f\"\\n📦 Total products created: {Product.product_count}\")\n"
   ]
  }
 ],
 "metadata": {
  "kernelspec": {
   "display_name": "Python 3",
   "language": "python",
   "name": "python3"
  },
  "language_info": {
   "codemirror_mode": {
    "name": "ipython",
    "version": 3
   },
   "file_extension": ".py",
   "mimetype": "text/x-python",
   "name": "python",
   "nbconvert_exporter": "python",
   "pygments_lexer": "ipython3",
   "version": "3.13.4"
  }
 },
 "nbformat": 4,
 "nbformat_minor": 5
}
